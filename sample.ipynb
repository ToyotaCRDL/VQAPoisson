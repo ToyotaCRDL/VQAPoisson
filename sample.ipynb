{
 "cells": [
  {
   "cell_type": "code",
   "execution_count": 1,
   "metadata": {},
   "outputs": [
    {
     "data": {
      "text/html": [
       "<h3>Version Information</h3><table><tr><th>Qiskit Software</th><th>Version</th></tr><tr><td>Qiskit</td><td>0.23.6</td></tr><tr><td>Terra</td><td>0.16.4</td></tr><tr><td>Aer</td><td>0.7.5</td></tr><tr><td>Ignis</td><td>0.5.2</td></tr><tr><td>Aqua</td><td>0.8.2</td></tr><tr><td>IBM Q Provider</td><td>0.11.1</td></tr><tr><th>System information</th></tr><tr><td>Python</td><td>3.7.4 (default, Aug 13 2019, 20:35:49) \n",
       "[GCC 7.3.0]</td></tr><tr><td>OS</td><td>Linux</td></tr><tr><td>CPUs</td><td>8</td></tr><tr><td>Memory (Gb)</td><td>30.379741668701172</td></tr><tr><td colspan='2'>Wed Mar 09 09:50:24 2022 JST</td></tr></table>"
      ],
      "text/plain": [
       "<IPython.core.display.HTML object>"
      ]
     },
     "metadata": {},
     "output_type": "display_data"
    }
   ],
   "source": [
    "import qiskit.tools.jupyter\n",
    "%qiskit_version_table"
   ]
  },
  {
   "cell_type": "code",
   "execution_count": 2,
   "metadata": {},
   "outputs": [],
   "source": [
    "import time\n",
    "\n",
    "import numpy as np\n",
    "import matplotlib.pyplot as plt\n",
    "from tqdm.auto import tqdm\n",
    "from qiskit import QuantumCircuit, Aer\n",
    "from qiskit.aqua import QuantumInstance\n",
    "\n",
    "from vqa_poisson import VQAforPoisson"
   ]
  },
  {
   "cell_type": "markdown",
   "metadata": {},
   "source": [
    "## Experiments"
   ]
  },
  {
   "cell_type": "code",
   "execution_count": 3,
   "metadata": {},
   "outputs": [],
   "source": [
    "def experiment(bc, num_trials, num_qubits_list, num_layers, qins):\n",
    "    \n",
    "    print('-----------'+bc+' boundary condition --------------')\n",
    "    \n",
    "    data = {'num_qubits':[], 'obj_count':[], 'circ_count':[], 'iter_count':[], 'err':[], 'params':[], 'q_sol':[], 'cl_sol':[]}\n",
    "    \n",
    "    for num_qubits in tqdm(num_qubits_list):\n",
    "        print('-------------------------')\n",
    "        print('num_qubits:', num_qubits)\n",
    "        \n",
    "        # set oracle for f vector\n",
    "        oracle_f = QuantumCircuit(num_qubits)\n",
    "        oracle_f.x(num_qubits-1)\n",
    "        oracle_f.h(oracle_f.qubits)\n",
    "    \n",
    "        # set vqa instance\n",
    "        vqa = VQAforPoisson(num_qubits, num_layers, bc, oracle_f=oracle_f, qinstance=qins)\n",
    "\n",
    "        obj_counts = []\n",
    "        circ_counts = []\n",
    "        iter_counts = []\n",
    "        err = []\n",
    "        params = []\n",
    "        q_sol = []\n",
    "    \n",
    "        for seed in range(num_trials):\n",
    "        \n",
    "            np.random.seed(seed)\n",
    "        \n",
    "            x0 = list(4*np.pi*np.random.rand(vqa.num_params))\n",
    "            res = vqa.minimize(x0, method='bfgs', save_logs=True)\n",
    "    \n",
    "            obj_counts.append(vqa.objective_counts)\n",
    "            circ_counts.append(vqa.circuit_counts)\n",
    "            iter_counts.append(len(vqa.objective_count_logs))\n",
    "            err.append(vqa.get_errors(res['x'])['trace'])\n",
    "            params.append(res['x'])\n",
    "            q_sol.append(vqa.get_sol(res['x']).real)\n",
    "            \n",
    "            print('trial:', seed, 'Err.:', err[-1])\n",
    "        \n",
    "        data['num_qubits'].append(num_qubits)\n",
    "        data['obj_count'].append(obj_counts)\n",
    "        data['circ_count'].append(circ_counts)\n",
    "        data['iter_count'].append(iter_counts)\n",
    "        data['err'].append(err)\n",
    "        data['params'].append(params)\n",
    "        data['q_sol'].append(q_sol)\n",
    "        data['cl_sol'].append(vqa.get_cl_sol().real)\n",
    "        \n",
    "    return data"
   ]
  },
  {
   "cell_type": "code",
   "execution_count": 4,
   "metadata": {},
   "outputs": [
    {
     "name": "stdout",
     "output_type": "stream",
     "text": [
      "-----------Periodic boundary condition --------------\n"
     ]
    },
    {
     "data": {
      "application/vnd.jupyter.widget-view+json": {
       "model_id": "04cb3fbd5923495c8f989ad8955a5a7d",
       "version_major": 2,
       "version_minor": 0
      },
      "text/plain": [
       "  0%|          | 0/1 [00:00<?, ?it/s]"
      ]
     },
     "metadata": {},
     "output_type": "display_data"
    },
    {
     "name": "stdout",
     "output_type": "stream",
     "text": [
      "-------------------------\n",
      "num_qubits: 4\n",
      "It.: 00001, Obj.: -5.358546e-01\n",
      "It.: 00002, Obj.: -5.371640e-01\n",
      "It.: 00003, Obj.: -1.001395e+00\n",
      "It.: 00004, Obj.: -1.129215e+00\n",
      "It.: 00005, Obj.: -1.308528e+00\n",
      "It.: 00006, Obj.: -1.634538e+00\n",
      "It.: 00007, Obj.: -2.002391e+00\n",
      "It.: 00008, Obj.: -2.094894e+00\n",
      "It.: 00009, Obj.: -2.242984e+00\n",
      "It.: 00010, Obj.: -2.456715e+00\n",
      "It.: 00011, Obj.: -2.545304e+00\n",
      "It.: 00012, Obj.: -2.589597e+00\n",
      "It.: 00013, Obj.: -2.622455e+00\n",
      "It.: 00014, Obj.: -2.671990e+00\n",
      "It.: 00015, Obj.: -2.688462e+00\n",
      "It.: 00016, Obj.: -2.707536e+00\n",
      "It.: 00017, Obj.: -2.715038e+00\n",
      "It.: 00018, Obj.: -2.724589e+00\n",
      "It.: 00019, Obj.: -2.728253e+00\n",
      "It.: 00020, Obj.: -2.729155e+00\n",
      "It.: 00021, Obj.: -2.730154e+00\n",
      "It.: 00022, Obj.: -2.730779e+00\n",
      "It.: 00023, Obj.: -2.731358e+00\n",
      "It.: 00024, Obj.: -2.731664e+00\n",
      "It.: 00025, Obj.: -2.731894e+00\n",
      "It.: 00026, Obj.: -2.731995e+00\n",
      "It.: 00027, Obj.: -2.732059e+00\n",
      "It.: 00028, Obj.: -2.732083e+00\n",
      "It.: 00029, Obj.: -2.732088e+00\n",
      "It.: 00030, Obj.: -2.732096e+00\n",
      "It.: 00031, Obj.: -2.732111e+00\n",
      "It.: 00032, Obj.: -2.732139e+00\n",
      "It.: 00033, Obj.: -2.732183e+00\n",
      "It.: 00034, Obj.: -2.732215e+00\n",
      "It.: 00035, Obj.: -2.732257e+00\n",
      "It.: 00036, Obj.: -2.732295e+00\n",
      "It.: 00037, Obj.: -2.732310e+00\n",
      "It.: 00038, Obj.: -2.732320e+00\n",
      "It.: 00039, Obj.: -2.732325e+00\n",
      "It.: 00040, Obj.: -2.732330e+00\n",
      "It.: 00041, Obj.: -2.732337e+00\n",
      "It.: 00042, Obj.: -2.732344e+00\n",
      "It.: 00043, Obj.: -2.732349e+00\n",
      "It.: 00044, Obj.: -2.732351e+00\n",
      "It.: 00045, Obj.: -2.732352e+00\n",
      "It.: 00046, Obj.: -2.732353e+00\n",
      "It.: 00047, Obj.: -2.732354e+00\n",
      "It.: 00048, Obj.: -2.732356e+00\n",
      "It.: 00049, Obj.: -2.732357e+00\n",
      "It.: 00050, Obj.: -2.732357e+00\n",
      "It.: 00051, Obj.: -2.732358e+00\n",
      "It.: 00052, Obj.: -2.732358e+00\n",
      "It.: 00053, Obj.: -2.732359e+00\n",
      "It.: 00054, Obj.: -2.732359e+00\n",
      "It.: 00055, Obj.: -2.732359e+00\n",
      "It.: 00056, Obj.: -2.732360e+00\n",
      "It.: 00057, Obj.: -2.732360e+00\n",
      "It.: 00058, Obj.: -2.732360e+00\n",
      "It.: 00059, Obj.: -2.732360e+00\n",
      "It.: 00060, Obj.: -2.732360e+00\n",
      "It.: 00061, Obj.: -2.732360e+00\n",
      "It.: 00062, Obj.: -2.732361e+00\n",
      "It.: 00063, Obj.: -2.732361e+00\n",
      "It.: 00064, Obj.: -2.732361e+00\n",
      "It.: 00065, Obj.: -2.732362e+00\n",
      "It.: 00066, Obj.: -2.732362e+00\n",
      "It.: 00067, Obj.: -2.732363e+00\n",
      "It.: 00068, Obj.: -2.732363e+00\n",
      "It.: 00069, Obj.: -2.732363e+00\n",
      "It.: 00070, Obj.: -2.732363e+00\n",
      "It.: 00071, Obj.: -2.732364e+00\n",
      "It.: 00072, Obj.: -2.732364e+00\n",
      "It.: 00073, Obj.: -2.732365e+00\n",
      "It.: 00074, Obj.: -2.732365e+00\n",
      "It.: 00075, Obj.: -2.732365e+00\n",
      "It.: 00076, Obj.: -2.732365e+00\n",
      "It.: 00077, Obj.: -2.732365e+00\n",
      "It.: 00078, Obj.: -2.732366e+00\n",
      "It.: 00079, Obj.: -2.732366e+00\n",
      "It.: 00080, Obj.: -2.732366e+00\n",
      "It.: 00081, Obj.: -2.732366e+00\n",
      "It.: 00082, Obj.: -2.732366e+00\n",
      "It.: 00083, Obj.: -2.732366e+00\n",
      "It.: 00084, Obj.: -2.732366e+00\n",
      "It.: 00085, Obj.: -2.732366e+00\n",
      "It.: 00086, Obj.: -2.732366e+00\n",
      "It.: 00087, Obj.: -2.732366e+00\n",
      "It.: 00088, Obj.: -2.732366e+00\n",
      "It.: 00089, Obj.: -2.732366e+00\n",
      "It.: 00090, Obj.: -2.732366e+00\n",
      "trial: 0 Err.: 0.0002676155184216856\n"
     ]
    }
   ],
   "source": [
    "t0 = time.time()\n",
    "optimizer = 'bfgs'\n",
    "num_layers = 5\n",
    "num_trials = 1\n",
    "num_qubits_list = [4]\n",
    "qins = QuantumInstance(Aer.get_backend('statevector_simulator'), seed_transpiler=42)\n",
    "\n",
    "# bc: Periodic\n",
    "data_p = experiment('Periodic', num_trials, num_qubits_list, num_layers, qins)"
   ]
  },
  {
   "cell_type": "markdown",
   "metadata": {},
   "source": [
    "## plots"
   ]
  },
  {
   "cell_type": "markdown",
   "metadata": {},
   "source": [
    "### distribution of solutions"
   ]
  },
  {
   "cell_type": "code",
   "execution_count": 5,
   "metadata": {},
   "outputs": [],
   "source": [
    "def plot_solution_vectors(q_sol, cl_sol):\n",
    "\n",
    "    fig = plt.figure()\n",
    "    ax = fig.add_subplot(111)\n",
    "    ax.plot(q_sol, label='quantum', color='black')\n",
    "    ax.plot(cl_sol, label='classical', color='black', linestyle='dashed')\n",
    "    ax.legend()\n",
    "    ax.set_xlabel('Node number')\n",
    "    ax.set_ylabel('Components of solution')\n",
    "\n",
    "    cnorm = np.linalg.norm(q_sol)\n",
    "    qnorm = np.linalg.norm(cl_sol)\n",
    "\n",
    "    ax.text(0.55, 0.65, 'Norm (quantum) = %.1f'%(qnorm), transform=ax.transAxes)\n",
    "    ax.text(0.55, 0.55, 'Norm (classical) = %.1f'%(cnorm), transform=ax.transAxes)\n",
    "    \n",
    "    return fig, ax"
   ]
  },
  {
   "cell_type": "code",
   "execution_count": 6,
   "metadata": {},
   "outputs": [],
   "source": [
    "idx1, idx2 = 0, 0"
   ]
  },
  {
   "cell_type": "code",
   "execution_count": 7,
   "metadata": {},
   "outputs": [
    {
     "name": "stdout",
     "output_type": "stream",
     "text": [
      "Periodic boundary condition, num_qubits: 4\n"
     ]
    },
    {
     "data": {
      "text/plain": [
       "(<Figure size 432x288 with 1 Axes>,\n",
       " <AxesSubplot:xlabel='Node number', ylabel='Components of solution'>)"
      ]
     },
     "execution_count": 7,
     "metadata": {},
     "output_type": "execute_result"
    },
    {
     "data": {
      "image/png": "[encoded data removed]",
      "text/plain": [
       "<Figure size 432x288 with 1 Axes>"
      ]
     },
     "metadata": {
      "needs_background": "light"
     },
     "output_type": "display_data"
    }
   ],
   "source": [
    "print('Periodic boundary condition, num_qubits:', data_p['num_qubits'][idx1])\n",
    "q_sol = data_p['q_sol'][idx1][idx2]\n",
    "cl_sol = data_p['cl_sol'][idx1]\n",
    "plot_solution_vectors(q_sol, cl_sol)"
   ]
  },
  {
   "cell_type": "code",
   "execution_count": 8,
   "metadata": {},
   "outputs": [
    {
     "name": "stdout",
     "output_type": "stream",
     "text": [
      "elapsed time: 1.17e+03\n"
     ]
    }
   ],
   "source": [
    "print('elapsed time: %.2e'%(time.time() - t0))"
   ]
  }
 ],
 "metadata": {
  "kernelspec": {
   "display_name": "qk023",
   "language": "python",
   "name": "qk023"
  },
  "language_info": {
   "codemirror_mode": {
    "name": "ipython",
    "version": 3
   },
   "file_extension": ".py",
   "mimetype": "text/x-python",
   "name": "python",
   "nbconvert_exporter": "python",
   "pygments_lexer": "ipython3",
   "version": "3.7.4"
  }
 },
 "nbformat": 4,
 "nbformat_minor": 4
}
